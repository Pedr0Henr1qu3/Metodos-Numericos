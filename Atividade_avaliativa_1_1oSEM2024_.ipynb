{
  "cells": [
    {
      "cell_type": "markdown",
      "id": "18efe243",
      "metadata": {
        "id": "18efe243"
      },
      "source": [
        "## UFSM00041 - MATEMÁTICA COMPUTACIONAL II\n",
        "### Atividade Avaliativa #1\n",
        "#### Prof. Tiago Buriol   - 1º Semestre de 2024"
      ]
    },
    {
      "cell_type": "markdown",
      "id": "bb49aef8",
      "metadata": {
        "id": "bb49aef8"
      },
      "source": [
        "### Nome do aluno:\n"
      ]
    },
    {
      "cell_type": "markdown",
      "id": "b76a9ca9",
      "metadata": {
        "id": "b76a9ca9"
      },
      "source": [
        "**Atividade:** Use as funções Pyhton e Numpy estudadas em aula para escrever vetores e matrizes como `arrays` e realizar o que se pede a seguir.\n",
        "\n",
        "Dadas as matrizes\n",
        "$A= \\left[\\begin{array}{ccc}\n",
        "\t         1 & 2  & 3 \\\\\n",
        "\t         -1 & 5 &  0 \\\\\n",
        "\t         7 & -2 &  4 \\\\\n",
        "\t         \\end{array} \\right]$,\n",
        "$M= \\left[\\begin{array}{ccc}\n",
        "\t         4.230 & 5.110 & 7.430 \\\\\n",
        "\t         -6.555 &  1.895 & 10.855  \\\\\n",
        "\t         10.010 & 5.550 & 2.670 \\\\\n",
        "\t         \\end{array} \\right]$ e\n",
        "$N=\\left[\\begin{array}{cccc}\\frac{1}{2} & \\frac{-1}{2} & \\frac{1}{2} & \\frac{1}{2} \\\\ \\frac{1}{2} & \\frac{1}{2} & \\frac{1}{2} & \\frac{-1}{2} \\\\ \\frac{-1}{2} & \\frac{1}{2} & \\frac{1}{2} & \\frac{1}{2} \\\\ \\frac{1}{2} & \\frac{1}{2} & \\frac{-1}{2} & \\frac{1}{2}\\end{array}\\right]$\n",
        "e o vetor $b = \\left[\n",
        "            \\begin{array}{c}\n",
        "\t          3 \\\\\n",
        "\t         -1  \\\\\n",
        "\t          0 \\\\\n",
        "\t         \\end{array} \\right]$,"
      ]
    },
    {
      "cell_type": "markdown",
      "id": "399bb694",
      "metadata": {
        "id": "399bb694"
      },
      "source": [
        "**1.** Calcule o módulo (ou magnitude) do vetor $b$. Em seguida obtenha um vetor unitário $\\hat{b}$ na direção de $b$ e verifique que $\\sqrt{\\langle \\hat{b}, \\hat{b}\\rangle }=1$."
      ]
    },
    {
      "cell_type": "code",
      "execution_count": 1,
      "id": "b8ac699a",
      "metadata": {
        "id": "b8ac699a"
      },
      "outputs": [],
      "source": [
        "import numpy as np"
      ]
    },
    {
      "cell_type": "code",
      "source": [
        "A = np.array([[1, 2, 3],[-1, 5, 0],[7, -2, 4]])\n",
        "M = np.array([[4.230, 5.110, 7.430], [-6.555, 1.895, 10.855], [10.010, 5.550, 2.670]])\n",
        "N = np.array([[0.5,-0.5,0.5,0.5], [0.5,0.5,0.5,-0.5], [-0.5,0.5,0.5,0.5], [0.5,0.5,-0.5,0.5]])\n",
        "b = np.array([3, -1, 0])\n",
        "print(A)\n",
        "print(M)\n",
        "print(N)\n",
        "print(b)"
      ],
      "metadata": {
        "colab": {
          "base_uri": "https://localhost:8080/"
        },
        "id": "WuIL4MmkglEZ",
        "outputId": "03d3011c-70da-4330-98a2-f17841a8c347"
      },
      "id": "WuIL4MmkglEZ",
      "execution_count": 12,
      "outputs": [
        {
          "output_type": "stream",
          "name": "stdout",
          "text": [
            "[[ 1  2  3]\n",
            " [-1  5  0]\n",
            " [ 7 -2  4]]\n",
            "[[ 4.23   5.11   7.43 ]\n",
            " [-6.555  1.895 10.855]\n",
            " [10.01   5.55   2.67 ]]\n",
            "[[ 0.5 -0.5  0.5  0.5]\n",
            " [ 0.5  0.5  0.5 -0.5]\n",
            " [-0.5  0.5  0.5  0.5]\n",
            " [ 0.5  0.5 -0.5  0.5]]\n",
            "[ 3 -1  0]\n"
          ]
        }
      ]
    },
    {
      "cell_type": "code",
      "source": [
        "#1)magnitude\n",
        "mag_b = np.sqrt(np.dot(b,b))\n",
        "print(mag_b)"
      ],
      "metadata": {
        "colab": {
          "base_uri": "https://localhost:8080/"
        },
        "id": "G097FZZmgXAc",
        "outputId": "6ec354ec-e5f3-41e2-c72a-bfc2facf5bdb"
      },
      "id": "G097FZZmgXAc",
      "execution_count": 13,
      "outputs": [
        {
          "output_type": "stream",
          "name": "stdout",
          "text": [
            "3.1622776601683795\n"
          ]
        }
      ]
    },
    {
      "cell_type": "code",
      "source": [
        "#1)vetor unitario e verificação\n",
        "b_unit = b / mag_b\n",
        "print(v_unit)\n",
        "\n",
        "mag_b_unit = np.round(np.sqrt(np.dot(b_unit, b_unit)))\n",
        "print(mag_b_unit)"
      ],
      "metadata": {
        "colab": {
          "base_uri": "https://localhost:8080/"
        },
        "id": "kt2T5E_SkTRN",
        "outputId": "49ed524f-4504-4ca0-a73a-b2e8a0f3c415"
      },
      "id": "kt2T5E_SkTRN",
      "execution_count": 19,
      "outputs": [
        {
          "output_type": "stream",
          "name": "stdout",
          "text": [
            "[ 0.9486833  -0.31622777  0.        ]\n",
            "1.0\n"
          ]
        }
      ]
    },
    {
      "cell_type": "markdown",
      "id": "3025573e",
      "metadata": {
        "id": "3025573e"
      },
      "source": [
        "**2.** Verifique que a segunda linha ($L_2$) da matriz $M$ é a combinação linear  $L_2 = 2L_1- \\frac{3}{2}L_3$ da primeira ($L_1$) e da terceira ($L_3$) linhas. Então, calcule o determinante. Essa matriz é invertível?"
      ]
    },
    {
      "cell_type": "code",
      "execution_count": 20,
      "id": "7a3b968b",
      "metadata": {
        "colab": {
          "base_uri": "https://localhost:8080/"
        },
        "id": "7a3b968b",
        "outputId": "53e74ca5-f0e5-4fee-9516-36127c68fa93"
      },
      "outputs": [
        {
          "output_type": "execute_result",
          "data": {
            "text/plain": [
              "array([-6.555,  1.895, 10.855])"
            ]
          },
          "metadata": {},
          "execution_count": 20
        }
      ],
      "source": [
        "#2)Verificação\n",
        "2*M[0,:]-3/2*M[2,:]"
      ]
    },
    {
      "cell_type": "code",
      "source": [
        "#2)Determinante e se é invertível\n",
        "M = np.array([[4.230, 5.110, 7.430], [-6.555, 1.895, 10.855], [10.010, 5.550, 2.670]])\n",
        "np.linalg.det(M)\n"
      ],
      "metadata": {
        "colab": {
          "base_uri": "https://localhost:8080/"
        },
        "id": "rnKtqhU_qnPg",
        "outputId": "c8020052-849f-4c59-bc1f-501670739188"
      },
      "id": "rnKtqhU_qnPg",
      "execution_count": 21,
      "outputs": [
        {
          "output_type": "execute_result",
          "data": {
            "text/plain": [
              "0.0"
            ]
          },
          "metadata": {},
          "execution_count": 21
        }
      ]
    },
    {
      "cell_type": "code",
      "source": [
        "#Como o determinante da matriz é zero, essa matriz não possui inversa."
      ],
      "metadata": {
        "id": "LFChM0LmtBNu"
      },
      "id": "LFChM0LmtBNu",
      "execution_count": null,
      "outputs": []
    },
    {
      "cell_type": "markdown",
      "id": "0a350836",
      "metadata": {
        "id": "0a350836"
      },
      "source": [
        "**3.** Verifique que o produto vetorial $u_1 \\times u_2$ de dois vetores dados por duas linhas quaisquer de $A$ resulta em um vetor ortogonal a $u_1$ e também a $u_2$."
      ]
    },
    {
      "cell_type": "code",
      "execution_count": 35,
      "id": "e3d3eb43",
      "metadata": {
        "colab": {
          "base_uri": "https://localhost:8080/"
        },
        "id": "e3d3eb43",
        "outputId": "7d4e750e-a7ac-4a3b-c135-2f342027769a"
      },
      "outputs": [
        {
          "output_type": "stream",
          "name": "stdout",
          "text": [
            "[1 2 3]\n",
            "[-1  5  0]\n"
          ]
        }
      ],
      "source": [
        "#3)Vetores 1 e 2 referentes a linha 1 e 2 de A\n",
        "u1 = np.array(A[0])\n",
        "u2 = np.array(A[1])\n",
        "print(u1)\n",
        "print(u2)"
      ]
    },
    {
      "cell_type": "code",
      "source": [
        "#Produto vetorial\n",
        "u12 = np.cross(u1, u2)\n",
        "print(u12)"
      ],
      "metadata": {
        "colab": {
          "base_uri": "https://localhost:8080/"
        },
        "id": "CeA0SfL3yA3M",
        "outputId": "b6cc172f-d199-421c-f7db-5490107a68d3"
      },
      "id": "CeA0SfL3yA3M",
      "execution_count": 38,
      "outputs": [
        {
          "output_type": "stream",
          "name": "stdout",
          "text": [
            "[-15  -3   7]\n"
          ]
        }
      ]
    },
    {
      "cell_type": "code",
      "source": [
        "#calculo dos produtos escalares\n",
        "np.dot(u12, u1)"
      ],
      "metadata": {
        "id": "G_9hFnyyyYZd",
        "outputId": "40fd7002-c244-4801-e25a-80ac3cf5a249",
        "colab": {
          "base_uri": "https://localhost:8080/"
        }
      },
      "id": "G_9hFnyyyYZd",
      "execution_count": 39,
      "outputs": [
        {
          "output_type": "execute_result",
          "data": {
            "text/plain": [
              "0"
            ]
          },
          "metadata": {},
          "execution_count": 39
        }
      ]
    },
    {
      "cell_type": "code",
      "source": [
        "np.dot(u12, u2)"
      ],
      "metadata": {
        "id": "pTT4aASyyxAS",
        "outputId": "ff3f82ad-6f0a-4e6a-9234-6cacf76f06ea",
        "colab": {
          "base_uri": "https://localhost:8080/"
        }
      },
      "id": "pTT4aASyyxAS",
      "execution_count": 40,
      "outputs": [
        {
          "output_type": "execute_result",
          "data": {
            "text/plain": [
              "0"
            ]
          },
          "metadata": {},
          "execution_count": 40
        }
      ]
    },
    {
      "cell_type": "code",
      "source": [
        "#Portanto prova-se que ambos são ortogonais"
      ],
      "metadata": {
        "id": "jyUvDX0QzPkK"
      },
      "id": "jyUvDX0QzPkK",
      "execution_count": null,
      "outputs": []
    },
    {
      "cell_type": "markdown",
      "id": "6ce6aa48",
      "metadata": {
        "id": "6ce6aa48"
      },
      "source": [
        "**4.** Calcule o determinante das matrizes $A$, $M$ e $N$. Qual dessas 3 matrizes possuem inversa?"
      ]
    },
    {
      "cell_type": "code",
      "execution_count": 22,
      "id": "d5ea8055",
      "metadata": {
        "colab": {
          "base_uri": "https://localhost:8080/"
        },
        "id": "d5ea8055",
        "outputId": "011caeea-6c93-4d1c-d2d4-9ff08b2a0a39"
      },
      "outputs": [
        {
          "output_type": "execute_result",
          "data": {
            "text/plain": [
              "-71.0"
            ]
          },
          "metadata": {},
          "execution_count": 22
        }
      ],
      "source": [
        "#4)\n",
        "A = np.array([[1, 2, 3],[-1, 5, 0],[7, -2, 4]])\n",
        "np.linalg.det(A)"
      ]
    },
    {
      "cell_type": "code",
      "source": [
        "#4)\n",
        "M = np.array([[4.230, 5.110, 7.430], [-6.555, 1.895, 10.855], [10.010, 5.550, 2.670]])\n",
        "np.linalg.det(M)"
      ],
      "metadata": {
        "colab": {
          "base_uri": "https://localhost:8080/"
        },
        "id": "B_pC53P5tXKY",
        "outputId": "dc88f5ad-31a3-4a49-c137-9d5fd134a6f6"
      },
      "id": "B_pC53P5tXKY",
      "execution_count": 23,
      "outputs": [
        {
          "output_type": "execute_result",
          "data": {
            "text/plain": [
              "0.0"
            ]
          },
          "metadata": {},
          "execution_count": 23
        }
      ]
    },
    {
      "cell_type": "code",
      "source": [
        "#4)\n",
        "N = np.array([[0.5,-0.5,0.5,0.5], [0.5,0.5,0.5,-0.5], [-0.5,0.5,0.5,0.5], [0.5,0.5,-0.5,0.5]])\n",
        "np.linalg.det(N)"
      ],
      "metadata": {
        "colab": {
          "base_uri": "https://localhost:8080/"
        },
        "id": "AjQevPW-tfk9",
        "outputId": "acf771c1-416a-46c7-ed81-036276093974"
      },
      "id": "AjQevPW-tfk9",
      "execution_count": 24,
      "outputs": [
        {
          "output_type": "execute_result",
          "data": {
            "text/plain": [
              "1.0"
            ]
          },
          "metadata": {},
          "execution_count": 24
        }
      ]
    },
    {
      "cell_type": "code",
      "source": [
        "#As matrizes que possuem inversa são: A e N, pois suas determinantes são diferente de 0."
      ],
      "metadata": {
        "id": "cRJ6d481t331"
      },
      "id": "cRJ6d481t331",
      "execution_count": null,
      "outputs": []
    },
    {
      "cell_type": "markdown",
      "id": "d14074c1",
      "metadata": {
        "id": "d14074c1"
      },
      "source": [
        "**5.** Extraia uma matriz triangular superior da matriz $A$ e verifique que o determinante da matriz triangular é igual ao produto dos elementos de sua diagonal principal."
      ]
    },
    {
      "cell_type": "code",
      "execution_count": 31,
      "id": "e114d66b",
      "metadata": {
        "colab": {
          "base_uri": "https://localhost:8080/"
        },
        "id": "e114d66b",
        "outputId": "9471fe67-18d4-4c3e-ee53-5d69d015bd9b"
      },
      "outputs": [
        {
          "output_type": "stream",
          "name": "stdout",
          "text": [
            "[[ 1  2  3]\n",
            " [-1  5  0]\n",
            " [ 7 -2  4]]\n"
          ]
        }
      ],
      "source": [
        "#5)\n",
        "A = np.array([[1, 2, 3],[-1, 5, 0],[7, -2, 4]])\n",
        "print(A)"
      ]
    },
    {
      "cell_type": "code",
      "source": [
        "tri_A = np.tril(A)"
      ],
      "metadata": {
        "colab": {
          "base_uri": "https://localhost:8080/"
        },
        "id": "J6WNNd7VvFsO",
        "outputId": "17487fec-4cbe-4b73-e16b-be843bd6770d"
      },
      "id": "J6WNNd7VvFsO",
      "execution_count": 27,
      "outputs": [
        {
          "output_type": "execute_result",
          "data": {
            "text/plain": [
              "array([[ 1,  0,  0],\n",
              "       [-1,  5,  0],\n",
              "       [ 7, -2,  4]])"
            ]
          },
          "metadata": {},
          "execution_count": 27
        }
      ]
    },
    {
      "cell_type": "code",
      "source": [
        "tri_A = np.array([[1, 0, 0],[-1, 5, 0],[7, -2, 4]])\n",
        "np.linalg.det(tri_A)"
      ],
      "metadata": {
        "colab": {
          "base_uri": "https://localhost:8080/"
        },
        "id": "rNG26Q6lvsdZ",
        "outputId": "f0012536-403f-45e5-88ce-867d7c859608"
      },
      "id": "rNG26Q6lvsdZ",
      "execution_count": 30,
      "outputs": [
        {
          "output_type": "execute_result",
          "data": {
            "text/plain": [
              "19.999999999999996"
            ]
          },
          "metadata": {},
          "execution_count": 30
        }
      ]
    },
    {
      "cell_type": "code",
      "source": [
        "d = np.diag(A)\n",
        "print(d)"
      ],
      "metadata": {
        "colab": {
          "base_uri": "https://localhost:8080/"
        },
        "id": "v8pynUzLwf3R",
        "outputId": "1ad964c8-8a66-4e36-fcd6-277d01f3b079"
      },
      "id": "v8pynUzLwf3R",
      "execution_count": 32,
      "outputs": [
        {
          "output_type": "stream",
          "name": "stdout",
          "text": [
            "[1 5 4]\n"
          ]
        }
      ]
    },
    {
      "cell_type": "code",
      "source": [
        "1*5*4"
      ],
      "metadata": {
        "colab": {
          "base_uri": "https://localhost:8080/"
        },
        "id": "HjGgYt3Qwsx4",
        "outputId": "7eaba48e-274c-44dc-815c-789d4a5ae4e6"
      },
      "id": "HjGgYt3Qwsx4",
      "execution_count": 33,
      "outputs": [
        {
          "output_type": "execute_result",
          "data": {
            "text/plain": [
              "20"
            ]
          },
          "metadata": {},
          "execution_count": 33
        }
      ]
    },
    {
      "cell_type": "code",
      "source": [
        "#Verificamos que o determinante da matriz triangular superior é praticamente o mesmo valor da diagonal principal."
      ],
      "metadata": {
        "id": "-ng7O1umwwqs"
      },
      "id": "-ng7O1umwwqs",
      "execution_count": null,
      "outputs": []
    },
    {
      "cell_type": "markdown",
      "id": "94ced146",
      "metadata": {
        "id": "94ced146"
      },
      "source": [
        "**6.** Obtenha a inversa de $A$ e use-a para obter o vetor $x$ tal que $x = A^{-1}b$. Então, verifique que $x$ é a solução do sistema $Ax=b$, calculando o produto $Ax$ e comparando com o vetor $b$."
      ]
    },
    {
      "cell_type": "code",
      "execution_count": 34,
      "id": "10251550",
      "metadata": {
        "colab": {
          "base_uri": "https://localhost:8080/"
        },
        "id": "10251550",
        "outputId": "158b26fc-c85e-4dcf-eea2-98530a45764a"
      },
      "outputs": [
        {
          "output_type": "stream",
          "name": "stdout",
          "text": [
            "[[-0.28169014  0.1971831   0.21126761]\n",
            " [-0.05633803  0.23943662  0.04225352]\n",
            " [ 0.46478873 -0.22535211 -0.09859155]]\n"
          ]
        }
      ],
      "source": [
        "#6)\n",
        "Ainv = np.linalg.inv(A)\n",
        "print(Ainv)"
      ]
    },
    {
      "cell_type": "code",
      "source": [
        "x = np.round(Ainv@b)\n",
        "print(x)"
      ],
      "metadata": {
        "id": "033NYpXe0pMU",
        "outputId": "458e42a3-bb6e-46bf-9d5f-326bbfdeaba7",
        "colab": {
          "base_uri": "https://localhost:8080/"
        }
      },
      "id": "033NYpXe0pMU",
      "execution_count": 59,
      "outputs": [
        {
          "output_type": "stream",
          "name": "stdout",
          "text": [
            "[-1. -0.  2.]\n"
          ]
        }
      ]
    },
    {
      "cell_type": "code",
      "source": [
        "x = np.array([[-1, -0, 2]])\n",
        "x@A"
      ],
      "metadata": {
        "id": "aBKLm7Mq0z3w",
        "outputId": "9b3c1860-b352-4808-8651-b92bbec8a46c",
        "colab": {
          "base_uri": "https://localhost:8080/"
        }
      },
      "id": "aBKLm7Mq0z3w",
      "execution_count": 61,
      "outputs": [
        {
          "output_type": "execute_result",
          "data": {
            "text/plain": [
              "array([[13, -6,  5]])"
            ]
          },
          "metadata": {},
          "execution_count": 61
        }
      ]
    },
    {
      "cell_type": "markdown",
      "id": "0bd0cf10",
      "metadata": {
        "id": "0bd0cf10"
      },
      "source": [
        "**7.** Verifique que $N$ é uma matriz ortogonal mostrando que $N^{-1}=N^T$. Então, tome dois vetores, $u_1$ e $u_2$, dados por duas colunas quaisquer de $N$ e verifique que são ortogonais entre si, ou seja, $\\langle u_1, u_2\\rangle =0$."
      ]
    },
    {
      "cell_type": "code",
      "execution_count": null,
      "id": "ad15d8a7",
      "metadata": {
        "id": "ad15d8a7"
      },
      "outputs": [],
      "source": []
    },
    {
      "cell_type": "markdown",
      "id": "65588e25",
      "metadata": {
        "id": "65588e25"
      },
      "source": [
        "**8.** O método de ortogonalização de Gram-Schmidt consiste em um algoritmo que permite obter um conjunto de vetores ortogonais entre si a partir de um conjunto linearmente independentes de outros vetores. Para um conjunto de três vetores $\\{ v_1, v_2, v_3\\}$ o processo pode ser descrito por\n",
        "$$\n",
        "\\begin{aligned}\n",
        "& u_1=v_1 \\\\\n",
        "& u_2=v_2-\\frac{\\left\\langle v_2, u_1\\right\\rangle}{\\left\\langle u_1, u_1\\right\\rangle} u_1 \\\\\n",
        "& u_3=v_3-\\frac{\\left\\langle v_3, u_1\\right\\rangle}{\\left\\langle u_1, u_1\\right\\rangle} u_1-\\frac{\\left\\langle v_3, u_2\\right\\rangle}{\\left\\langle u_2, u_2\\right\\rangle} u_2\n",
        "\\end{aligned}\n",
        "$$\n",
        "\n",
        "Obtenha os vetores ortogonais $u_1$, $u_2$ e $u_3$ e verifique que o produto interno entre um par qualquer é zero."
      ]
    },
    {
      "cell_type": "code",
      "execution_count": null,
      "id": "ae2b9844",
      "metadata": {
        "id": "ae2b9844"
      },
      "outputs": [],
      "source": []
    },
    {
      "cell_type": "markdown",
      "id": "4fb46afa",
      "metadata": {
        "id": "4fb46afa"
      },
      "source": [
        "**9.**  O parábola que passa pelos pontos $(2,-2)$, $(3,-5)$ e $(4,0)$ pode ser obtida resolvendo o sistema linear\n",
        "\n",
        "$$ y_i = ax_i^2 + bx_i+c $$\n",
        "\n",
        "com $(x_i, y_i)$, $i = 1,2,3$ sendo os pontos dados acima. A matriz dos coeficientes do sistema resultante é conhecida como Matriz de Vandermonde. Escreva o sistema na forma matricial e resolva usando matriz inversa ontendo os coeficientes $a$, $b$ e $c$. Então plote o gráfico do parábola e dos pontos."
      ]
    },
    {
      "cell_type": "code",
      "execution_count": null,
      "id": "1a84b5ca",
      "metadata": {
        "id": "1a84b5ca"
      },
      "outputs": [],
      "source": []
    },
    {
      "cell_type": "markdown",
      "id": "cb5e5501",
      "metadata": {
        "id": "cb5e5501"
      },
      "source": [
        "**10.** Em muitas aplicações é necessário encontrar uma função que representa um conjunto de dados obtidos usando uma aproximação por minimos quadradados.\n",
        "\n",
        "Podemos encontrar o polinômio de grau 3 que melhor representa um conjunto de 10 pontos $(x_i, y_i)$, $i=1,2,...,10$, por mínimos quadrados, resolvendo o sistema linear\n",
        "\n",
        "$$(Z^TZ)a = Z^Ty$$\n",
        "\n",
        "onde $Z$ é a matriz $10\\times4$ obtida a partir dos valores de $x_i$, $i=1,2,...,10$ fazendo\n",
        "\n",
        "$$Z = \\left[\\begin{matrix}\n",
        "1 & x_1 & x_1^2 & x_1^3\\\\\n",
        "1 & x_2 & x_2^2 & x_2^3\\\\\n",
        "1 & x_3 & x_3^2 & x_3^3\\\\\n",
        "\\vdots & \\vdots & \\vdots & \\vdots\\\\\n",
        "1 & x_{10} & x_{10}^2 & x_{10}^3\\\\\n",
        "\\end{matrix}\\right]$$\n",
        "\n",
        "$a$ é a matriz dos coeficientes do polinômio $a=[a_0, a_1, a_2,a_3]^T$ e $y$ é dado por $y=[y_1,y_2,...,y_{10}]^T$.\n",
        "\n",
        "Monte e resolva o sistema para encontrar o polinômio, então, plote o gráfico desse polinômio juntamente com os pontos:\n",
        "\n",
        "x (m) |  1,3 |  0,9 |  2,2 | 1,95 | 1,78 | 3,1  | 2,48 | 2,74 | 3,35 | 3,99 |\n",
        "------|------|------|------|------|------|------|------|------|------|------|\n",
        "y (cm)|  1,9 | 3,01 | -3,1 | -1.98| -1.53| -5.01|-4.91 |-5.01 |-4.02 | 0,15 |"
      ]
    },
    {
      "cell_type": "code",
      "execution_count": null,
      "id": "ebc16a2e",
      "metadata": {
        "id": "ebc16a2e"
      },
      "outputs": [],
      "source": []
    }
  ],
  "metadata": {
    "kernelspec": {
      "display_name": "Python 3",
      "language": "python",
      "name": "python3"
    },
    "language_info": {
      "codemirror_mode": {
        "name": "ipython",
        "version": 3
      },
      "file_extension": ".py",
      "mimetype": "text/x-python",
      "name": "python",
      "nbconvert_exporter": "python",
      "pygments_lexer": "ipython3",
      "version": "3.8.5"
    },
    "colab": {
      "provenance": []
    }
  },
  "nbformat": 4,
  "nbformat_minor": 5
}