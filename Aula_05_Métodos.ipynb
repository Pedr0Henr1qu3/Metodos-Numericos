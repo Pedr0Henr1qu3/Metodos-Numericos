{
 "cells": [
  {
   "cell_type": "code",
   "execution_count": 5,
   "metadata": {},
   "outputs": [
    {
     "name": "stdout",
     "output_type": "stream",
     "text": [
      "f( 0 )= 2672.369\n",
      "f( 1 )= 2642.001\n",
      "f( 2 )= 2555.085\n",
      "f( 3 )= 2417.903\n",
      "f( 4 )= 2236.737\n",
      "f( 5 )= 2017.869\n",
      "f( 6 )= 1767.581\n",
      "f( 7 )= 1492.155\n",
      "f( 8 )= 1197.873\n",
      "f( 9 )= 891.017\n",
      "f( 10 )= 577.869\n",
      "f( 11 )= 264.711\n",
      "f( 12 )= -42.175\n",
      "f( 13 )= -336.507\n",
      "f( 14 )= -612.003\n",
      "f( 15 )= -862.381\n",
      "f( 16 )= -1081.359\n",
      "f( 17 )= -1262.655\n",
      "f( 18 )= -1399.987\n",
      "f( 19 )= -1487.073\n",
      "f( 20 )= -1517.631\n"
     ]
    }
   ],
   "source": [
    "import math\n",
    "\n",
    "for d in range(0,21):\n",
    "    y = 1.047*d**3-31.415*d**2+2672.369\n",
    "    print('f(',d,')=', round(y,3))\n"
   ]
  },
  {
   "cell_type": "markdown",
   "metadata": {},
   "source": [
    "Cálculo de uma função para definir o f(x) = 0"
   ]
  },
  {
   "cell_type": "code",
   "execution_count": 33,
   "metadata": {},
   "outputs": [
    {
     "name": "stdout",
     "output_type": "stream",
     "text": [
      "11.860511 0.02198488620979333\n",
      "11.860521 0.018951426496187196\n",
      "11.860531 0.015917967949008016\n",
      "11.860541000000001 0.012884510568255791\n",
      "11.860551000000001 0.009851054356204259\n",
      "11.860561 0.006817599312853417\n",
      "11.860571 0.0037841454372937733\n",
      "11.860581 0.0007506927281610842\n",
      "11.860591000000001 -0.002282758812270913\n",
      "11.860601 -0.005316209185821208\n",
      "11.860611 -0.008349658389761316\n",
      "11.860621 -0.011383106425910228\n"
     ]
    }
   ],
   "source": [
    "for i in range(0,12):\n",
    "    d = 11.860511+i/100000\n",
    "    y = 1.047*d**(3)-31.415*d**2+2672.369\n",
    "    print(d,y)"
   ]
  },
  {
   "cell_type": "markdown",
   "metadata": {},
   "source": [
    "Achar zero de funções a partir da biblioteca scipy"
   ]
  },
  {
   "cell_type": "code",
   "execution_count": 43,
   "metadata": {},
   "outputs": [
    {
     "name": "stdout",
     "output_type": "stream",
     "text": [
      "[7.99067236]\n"
     ]
    }
   ],
   "source": [
    "from scipy.optimize import fsolve\n",
    "import numpy as np\n",
    "\n",
    "r = 1\n",
    "As = lambda x: 0.5*r**2*(x-np.sin(x))-3.5\n",
    "\n",
    "sol = fsolve(As, 1)\n",
    "print(sol)"
   ]
  },
  {
   "cell_type": "markdown",
   "metadata": {},
   "source": [
    "Importar gráficos com o matplotlib.pyplot"
   ]
  },
  {
   "cell_type": "code",
   "execution_count": null,
   "metadata": {},
   "outputs": [],
   "source": [
    "import numpy as np\n",
    "import matplotlib.pyplot as plt\n",
    "\n",
    "x = np.linspace(1.05, 1.06, 51)\n",
    "y1 = np.exp(x)\n",
    "y2 = np.sin(x)+2 \n",
    "\n",
    "plt.plot(x, y1, x,y2)"
   ]
  },
  {
   "cell_type": "markdown",
   "metadata": {},
   "source": [
    "Achar o zero da função com python"
   ]
  },
  {
   "cell_type": "code",
   "execution_count": null,
   "metadata": {},
   "outputs": [],
   "source": [
    "import numpy as np\n",
    "import matplotlib.pyplot as plt\n",
    "\n",
    "x = np.linspace(-2, 2, 1000)\n",
    "y1 = x\n",
    "y2 = np.exp(x)\n",
    "\n",
    "plt.plot(x, y1, x, y2)"
   ]
  }
 ],
 "metadata": {
  "kernelspec": {
   "display_name": "Python 3",
   "language": "python",
   "name": "python3"
  },
  "language_info": {
   "codemirror_mode": {
    "name": "ipython",
    "version": 3
   },
   "file_extension": ".py",
   "mimetype": "text/x-python",
   "name": "python",
   "nbconvert_exporter": "python",
   "pygments_lexer": "ipython3",
   "version": "3.12.2"
  }
 },
 "nbformat": 4,
 "nbformat_minor": 2
}
