{
 "cells": [
  {
   "cell_type": "markdown",
   "metadata": {},
   "source": [
    "## UFSM00041 - MATEMÁTICA COMPUTACIONAL II - T10_315\n",
    "### Atividade Avaliativa #1\n",
    "#### Prof. Tiago Buriol\n",
    "#### 2º Semestre de 2023"
   ]
  },
  {
   "cell_type": "markdown",
   "metadata": {},
   "source": [
    "### Nome do aluno:\n"
   ]
  },
  {
   "cell_type": "markdown",
   "metadata": {},
   "source": [
    "**Atividade:** Usar as funções de Pyhton e Numpy estudados em aula para descrever vetores e matrizes como `arrays` e realizar o que se pede a seguir.\n",
    "\n",
    "Dadas as matrizes\n",
    "$A= \\left[\\begin{array}{ccc} \n",
    "\t         1 & 2  & 3 \\\\ \n",
    "\t         -1 & 5 &  0 \\\\\n",
    "\t         7 & -2 &  4 \\\\\n",
    "\t         \\end{array} \\right]$,\n",
    "$M= \\left[\\begin{array}{ccc} \n",
    "\t         1 & 2  & 3 \\\\ \n",
    "\t         11 & -2 & 7.5  \\\\\n",
    "\t         7 & -2 &  4 \\\\\n",
    "\t         \\end{array} \\right]$ e\n",
    "            \n",
    "\n",
    "$N=\\frac 1{\\sqrt{6}}\\begin{pmatrix} \\sqrt{2} & 1 & \\sqrt{3} \\\\ -\\sqrt{2} & 2 & 0 \\\\ \\sqrt{2} & 1 & -\\sqrt{3} \\end{pmatrix}$\n",
    "\n",
    "\n",
    "e o vetor $b = \\left[ \n",
    "            \\begin{array}{c} \n",
    "\t          3 \\\\ \n",
    "\t         -1  \\\\\n",
    "\t          0 \\\\\n",
    "\t         \\end{array} \\right]$, "
   ]
  },
  {
   "cell_type": "markdown",
   "metadata": {},
   "source": [
    "**1.** Calcule o módulo (ou magnitude) do vetor $b$. Em seguida obtenha um vetor unitário $\\hat{b}$ na direção de $b$ e verifique que $\\sqrt{\\langle \\hat{b}, \\hat{b}\\rangle }$."
   ]
  },
  {
   "cell_type": "code",
   "execution_count": 3,
   "metadata": {},
   "outputs": [],
   "source": [
    "import numpy as np\n",
    "import matplotlib.pyplot as plt"
   ]
  },
  {
   "cell_type": "code",
   "execution_count": 85,
   "metadata": {},
   "outputs": [],
   "source": [
    "A = np.array([[1, 2, 3], [-1, 5, 0], [7, -2, 4]])\n",
    "M = np.array([[1, 2, 3], [11, -2, 7.5], [7, -2, 4]])\n",
    "b = np.array([3,-1,0])"
   ]
  },
  {
   "cell_type": "code",
   "execution_count": 99,
   "metadata": {},
   "outputs": [
    {
     "data": {
      "text/plain": [
       "1.0"
      ]
     },
     "execution_count": 99,
     "metadata": {},
     "output_type": "execute_result"
    }
   ],
   "source": [
    "3**1/2+-1**1/2+0**1/2"
   ]
  },
  {
   "cell_type": "code",
   "execution_count": 112,
   "metadata": {},
   "outputs": [
    {
     "data": {
      "text/plain": [
       "array([-1,  0])"
      ]
     },
     "execution_count": 112,
     "metadata": {},
     "output_type": "execute_result"
    }
   ],
   "source": [
    "b[1:]"
   ]
  },
  {
   "cell_type": "code",
   "execution_count": 115,
   "metadata": {},
   "outputs": [
    {
     "data": {
      "text/plain": [
       "-1.5"
      ]
     },
     "execution_count": 115,
     "metadata": {},
     "output_type": "execute_result"
    }
   ],
   "source": [
    "-1-1**1/2"
   ]
  },
  {
   "cell_type": "markdown",
   "metadata": {},
   "source": [
    "**2.** Verifique que a segunda linha ($L_2$) da matriz $M$ é a combinação linear  $L_2 = \\frac{1}{2}L_1+\\frac{3}{2}L_3$ da primeira ($L_1$) e da terceira ($L_3$) linhas."
   ]
  },
  {
   "cell_type": "code",
   "execution_count": 5,
   "metadata": {},
   "outputs": [
    {
     "data": {
      "text/plain": [
       "array([11. , -2. ,  7.5])"
      ]
     },
     "execution_count": 5,
     "metadata": {},
     "output_type": "execute_result"
    }
   ],
   "source": [
    "1/2*M[0] + 3/2*M[2]"
   ]
  },
  {
   "cell_type": "markdown",
   "metadata": {},
   "source": [
    "**3.** Verifique que dois vetores $u_1$ e $u_2$ dados por duas colunas quaisquer de $N$ são ortogonais entre si, ou seja, $\\langle u_1, u_2\\rangle =0$."
   ]
  },
  {
   "cell_type": "code",
   "execution_count": 6,
   "metadata": {},
   "outputs": [],
   "source": [
    "import numpy as np\n",
    "\n",
    "N= (1/np.sqrt(6))*np.array([[np.sqrt(2),1,np.sqrt(3)],\n",
    "                          [-np.sqrt(2),2,0],\n",
    "                           [np.sqrt(2), 1,-np.sqrt(3)]])\n",
    "\n"
   ]
  },
  {
   "cell_type": "code",
   "execution_count": 104,
   "metadata": {},
   "outputs": [
    {
     "data": {
      "text/plain": [
       "0.0"
      ]
     },
     "execution_count": 104,
     "metadata": {},
     "output_type": "execute_result"
    }
   ],
   "source": [
    "N[0,0]*N[1,2]"
   ]
  },
  {
   "cell_type": "markdown",
   "metadata": {},
   "source": [
    "**4.** Verifique que o produto vetorial de dois vetores $u_1$ e $u_2$ dados por duas colunas quaisquer de $N$ resulta em um vetor múltiplo da terceira coluna."
   ]
  },
  {
   "cell_type": "code",
   "execution_count": 109,
   "metadata": {},
   "outputs": [
    {
     "data": {
      "text/plain": [
       "0.0"
      ]
     },
     "execution_count": 109,
     "metadata": {},
     "output_type": "execute_result"
    }
   ],
   "source": [
    "np.dot(N[:,0],N[:,1])"
   ]
  },
  {
   "cell_type": "code",
   "execution_count": 110,
   "metadata": {},
   "outputs": [
    {
     "data": {
      "text/plain": [
       "array([0.40824829, 0.81649658, 0.40824829])"
      ]
     },
     "execution_count": 110,
     "metadata": {},
     "output_type": "execute_result"
    }
   ],
   "source": [
    "N[:,1]"
   ]
  },
  {
   "cell_type": "markdown",
   "metadata": {},
   "source": [
    "**5.** Calcule o determinante das matrizes $A$, $M$ e $N$. Qual dessas 3 matrizes possuem inversa?"
   ]
  },
  {
   "cell_type": "code",
   "execution_count": 7,
   "metadata": {},
   "outputs": [
    {
     "data": {
      "text/plain": [
       "-71.0"
      ]
     },
     "execution_count": 7,
     "metadata": {},
     "output_type": "execute_result"
    }
   ],
   "source": [
    "np.linalg.det(A)"
   ]
  },
  {
   "cell_type": "code",
   "execution_count": 8,
   "metadata": {},
   "outputs": [
    {
     "data": {
      "text/plain": [
       "-0.0"
      ]
     },
     "execution_count": 8,
     "metadata": {},
     "output_type": "execute_result"
    }
   ],
   "source": [
    "np.linalg.det(M)\n",
    "np.round(np.linalg.det(M))"
   ]
  },
  {
   "cell_type": "code",
   "execution_count": 11,
   "metadata": {},
   "outputs": [
    {
     "data": {
      "text/plain": [
       "-1.0"
      ]
     },
     "execution_count": 11,
     "metadata": {},
     "output_type": "execute_result"
    }
   ],
   "source": [
    "np.linalg.det(N)\n",
    "np.round(np.linalg.det(N))"
   ]
  },
  {
   "cell_type": "code",
   "execution_count": 13,
   "metadata": {},
   "outputs": [
    {
     "data": {
      "text/plain": [
       "array([[ 1., -0., -0.],\n",
       "       [-0.,  1.,  0.],\n",
       "       [ 0.,  0.,  1.]])"
      ]
     },
     "execution_count": 13,
     "metadata": {},
     "output_type": "execute_result"
    }
   ],
   "source": [
    "Ainv = np.linalg.inv(A)\n",
    "np.round(A@Ainv)"
   ]
  },
  {
   "cell_type": "code",
   "execution_count": 14,
   "metadata": {},
   "outputs": [
    {
     "data": {
      "text/plain": [
       "array([[ 0.,  0., -1.],\n",
       "       [ 0.,  0.,  0.],\n",
       "       [-1.,  1.,  1.]])"
      ]
     },
     "execution_count": 14,
     "metadata": {},
     "output_type": "execute_result"
    }
   ],
   "source": [
    "Minv = np.linalg.inv(M)\n",
    "np.round(M@Minv)"
   ]
  },
  {
   "cell_type": "code",
   "execution_count": 16,
   "metadata": {},
   "outputs": [
    {
     "data": {
      "text/plain": [
       "array([[ 1.,  0.,  0.],\n",
       "       [-0.,  1., -0.],\n",
       "       [ 0.,  0.,  1.]])"
      ]
     },
     "execution_count": 16,
     "metadata": {},
     "output_type": "execute_result"
    }
   ],
   "source": [
    "Ninv = np.linalg.inv(N)\n",
    "np.round(N@Ninv)"
   ]
  },
  {
   "cell_type": "markdown",
   "metadata": {},
   "source": [
    "**6.** Obtenha a inversa de $A$ e use-a para obter o vetor $x$ tal que $x = A^{-1}b$. Então, verifique que $x$ é a solução do sistema $Ax=b$, calculando o produto $Ax$ e comparando com o vetor $b$. "
   ]
  },
  {
   "cell_type": "code",
   "execution_count": 86,
   "metadata": {},
   "outputs": [],
   "source": [
    "Ainv=np.linalg.inv(A)\n"
   ]
  },
  {
   "cell_type": "code",
   "execution_count": 94,
   "metadata": {},
   "outputs": [
    {
     "data": {
      "text/plain": [
       "array([-1.04225352, -0.4084507 ,  1.61971831])"
      ]
     },
     "execution_count": 94,
     "metadata": {},
     "output_type": "execute_result"
    }
   ],
   "source": [
    "Ainv.dot(b)"
   ]
  },
  {
   "cell_type": "code",
   "execution_count": 95,
   "metadata": {},
   "outputs": [],
   "source": [
    "x=Ainv.dot(b)"
   ]
  },
  {
   "cell_type": "code",
   "execution_count": 98,
   "metadata": {},
   "outputs": [
    {
     "data": {
      "text/plain": [
       "array([ 3., -1.,  0.])"
      ]
     },
     "execution_count": 98,
     "metadata": {},
     "output_type": "execute_result"
    }
   ],
   "source": [
    "np.round(A.dot(x))"
   ]
  },
  {
   "cell_type": "markdown",
   "metadata": {},
   "source": [
    "**7.** Verifique que $N$ é uma matriz ortogonal mostrando que $N^{-1}=N^T$."
   ]
  },
  {
   "cell_type": "code",
   "execution_count": 72,
   "metadata": {},
   "outputs": [
    {
     "name": "stdout",
     "output_type": "stream",
     "text": [
      "[[ 0.57735027 -0.57735027  0.57735027]\n",
      " [ 0.40824829  0.81649658  0.40824829]\n",
      " [ 0.70710678 -0.         -0.70710678]]\n"
     ]
    }
   ],
   "source": [
    "Ninv=np.linalg.inv(N)\n",
    "print(Ninv)\n"
   ]
  },
  {
   "cell_type": "code",
   "execution_count": 61,
   "metadata": {},
   "outputs": [
    {
     "data": {
      "text/plain": [
       "array([[ 0.57735027, -0.57735027,  0.57735027],\n",
       "       [ 0.40824829,  0.81649658,  0.40824829],\n",
       "       [ 0.70710678,  0.        , -0.70710678]])"
      ]
     },
     "execution_count": 61,
     "metadata": {},
     "output_type": "execute_result"
    }
   ],
   "source": [
    "N.T"
   ]
  },
  {
   "cell_type": "markdown",
   "metadata": {},
   "source": [
    "**8.** Extraia uma matriz triangular superior da matriz $A$ e verifique que o determinante da matriz triangular é igual ao produto dos elementos de sua diagonal principal. "
   ]
  },
  {
   "cell_type": "code",
   "execution_count": 19,
   "metadata": {},
   "outputs": [
    {
     "name": "stdout",
     "output_type": "stream",
     "text": [
      "[[ 1  2  3]\n",
      " [-1  5  0]\n",
      " [ 7 -2  4]]\n"
     ]
    }
   ],
   "source": [
    "A1 = np.array([[1, 2, 3], [-1, 5, 0], [7, -2, 4]])\n",
    "print(A1)"
   ]
  },
  {
   "cell_type": "code",
   "execution_count": 20,
   "metadata": {},
   "outputs": [
    {
     "data": {
      "text/plain": [
       "array([[1, 2, 3],\n",
       "       [0, 5, 0],\n",
       "       [0, 0, 4]])"
      ]
     },
     "execution_count": 20,
     "metadata": {},
     "output_type": "execute_result"
    }
   ],
   "source": [
    "np.triu(A1)"
   ]
  },
  {
   "cell_type": "code",
   "execution_count": 21,
   "metadata": {},
   "outputs": [
    {
     "data": {
      "text/plain": [
       "19.999999999999996"
      ]
     },
     "execution_count": 21,
     "metadata": {},
     "output_type": "execute_result"
    }
   ],
   "source": [
    "np.linalg.det(np.triu(A1))"
   ]
  },
  {
   "cell_type": "markdown",
   "metadata": {},
   "source": [
    "**9.**  Verifique que trocando duas linhas da matriz identidade e multiplicando por qualquer uma das matrizes dadas, o resultado obtido é a matriz com as mesmas linhas trocadas."
   ]
  },
  {
   "cell_type": "code",
   "execution_count": 56,
   "metadata": {},
   "outputs": [
    {
     "name": "stdout",
     "output_type": "stream",
     "text": [
      "[[1 0 0]\n",
      " [0 0 0]\n",
      " [0 0 0]]\n"
     ]
    }
   ],
   "source": [
    "i = np.array([[1,0,0], [0, 0, 0], [0, 0, 0]])\n",
    "print(i)"
   ]
  },
  {
   "cell_type": "code",
   "execution_count": 58,
   "metadata": {},
   "outputs": [
    {
     "data": {
      "text/plain": [
       "array([[1, 2, 3],\n",
       "       [0, 0, 0],\n",
       "       [0, 0, 0]])"
      ]
     },
     "execution_count": 58,
     "metadata": {},
     "output_type": "execute_result"
    }
   ],
   "source": [
    "i@A"
   ]
  },
  {
   "cell_type": "markdown",
   "metadata": {},
   "source": [
    "**10.** Faça o escalonamento da matriz $A$ usando operações elementares sobre linhas  da matriz."
   ]
  },
  {
   "cell_type": "code",
   "execution_count": 121,
   "metadata": {},
   "outputs": [
    {
     "data": {
      "text/plain": [
       "array([], shape=(0, 3), dtype=int64)"
      ]
     },
     "execution_count": 121,
     "metadata": {},
     "output_type": "execute_result"
    }
   ],
   "source": [
    "A[:0]+A[:1]"
   ]
  },
  {
   "cell_type": "code",
   "execution_count": null,
   "metadata": {},
   "outputs": [],
   "source": []
  }
 ],
 "metadata": {
  "kernelspec": {
   "display_name": "Python 3",
   "language": "python",
   "name": "python3"
  },
  "language_info": {
   "codemirror_mode": {
    "name": "ipython",
    "version": 3
   },
   "file_extension": ".py",
   "mimetype": "text/x-python",
   "name": "python",
   "nbconvert_exporter": "python",
   "pygments_lexer": "ipython3",
   "version": "3.7.3"
  }
 },
 "nbformat": 4,
 "nbformat_minor": 5
}
