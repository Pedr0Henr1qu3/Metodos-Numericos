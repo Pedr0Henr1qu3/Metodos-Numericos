{
  "cells": [
    {
      "cell_type": "markdown",
      "id": "266b618e",
      "metadata": {
        "id": "266b618e"
      },
      "source": [
        "## UFSM00041 - MATEMÁTICA COMPUTACIONAL II\n",
        "### Atividade Avaliativa #2\n",
        "#### Prof. Tiago Buriol   - 1º Semestre de 2024"
      ]
    },
    {
      "cell_type": "markdown",
      "id": "6a4b521d",
      "metadata": {
        "id": "6a4b521d"
      },
      "source": [
        "### Nome do aluno: Cristian iensen boff\n",
        "\n",
        "> Adicionar aspas\n",
        "\n"
      ]
    },
    {
      "cell_type": "markdown",
      "id": "47c90e2b",
      "metadata": {
        "id": "47c90e2b"
      },
      "source": [
        "**1.** Use o algoritmo de eliminação de Gauss para resolver os seguintes sistemas lineares, se possível, e determine se são necessárias trocas de linhas\n",
        "\n",
        "$$\n",
        "\\begin{aligned}\n",
        "x_1+x_2+x_4 & =2, \\\\\n",
        "2 x_1+x_2-x_3+x_4 & =1, \\\\\n",
        "4 x_1-x_2-2 x_3+2 x_4 & =0, \\\\\n",
        "3 x_1-x_2-x_3+2 x_4 & =-3 .\n",
        "\\end{aligned}\n",
        "\\quad \\quad \\quad\n",
        "\\begin{aligned}\n",
        "2 x_1 & =3 \\\\\n",
        "x_1+1,5 x_2 & =4,5 \\\\\n",
        "-3 x_2+0,5 x_3 & =-6,6 \\\\\n",
        "2 x_1-2 x_2+x_3+x_4 & =0,8\n",
        "\\end{aligned}\n",
        "$$"
      ]
    },
    {
      "cell_type": "code",
      "execution_count": 6,
      "id": "33e56c7c-c9c3-404f-8c63-9008802d54f7",
      "metadata": {
        "colab": {
          "base_uri": "https://localhost:8080/"
        },
        "id": "33e56c7c-c9c3-404f-8c63-9008802d54f7",
        "outputId": "c65e7497-7db9-40e3-8a5b-39fa5035d867"
      },
      "outputs": [
        {
          "output_type": "stream",
          "name": "stdout",
          "text": [
            "Sistema 1:\n",
            "Solução: [ 7.         10.33333333  4.         -4.83333333]\n",
            "Trocas necessárias: 1\n",
            "\n",
            "Sistema 2:\n",
            "Solução: [ 2.05217391 -1.15942029 -0.36811594 -0.68115942]\n",
            "Trocas necessárias: 0\n"
          ]
        }
      ],
      "source": [
        "import numpy as np\n",
        "\n",
        "# Definindo os sistemas lineares\n",
        "A1 = np.array([[1, 1, 1, 4],\n",
        "               [2, 1, -1, 4],\n",
        "               [4, -1, -2, 2],\n",
        "               [3, -1, -1, 2]], dtype=float)\n",
        "b1 = np.array([2, 1, 0, -3], dtype=float)\n",
        "\n",
        "A2 = np.array([[2, 1, -2, 1],\n",
        "               [1, -2, 1.5, -1],\n",
        "               [-2, 2, -3, 1],\n",
        "               [1, -1, 1, 3]], dtype=float)\n",
        "b2 = np.array([3, 4.5, -6, 0.8], dtype=float)\n",
        "\n",
        "# Função para trocar linhas se necessário\n",
        "def pivot(A, b, i):\n",
        "    max_index = i\n",
        "    max_value = abs(A[i, i])\n",
        "    n = len(b)\n",
        "    for k in range(i + 1, n):\n",
        "        if abs(A[k, i]) > max_value:\n",
        "            max_index = k\n",
        "            max_value = abs(A[k, i])\n",
        "    if max_index != i:\n",
        "        # Trocando linhas\n",
        "        A[[i, max_index]] = A[[max_index, i]]\n",
        "        b[[i, max_index]] = b[[max_index, i]]\n",
        "        return True\n",
        "    return False\n",
        "\n",
        "# Aplicando o algoritmo de eliminação de Gauss para o sistema 1\n",
        "trocas1 = [pivot(A1, b1, i) for i in range(len(b1))]\n",
        "trocas_necessarias1 = sum(trocas1)\n",
        "\n",
        "# Aplicando o algoritmo de eliminação de Gauss para o sistema 2\n",
        "trocas2 = [pivot(A2, b2, i) for i in range(len(b2))]\n",
        "trocas_necessarias2 = sum(trocas2)\n",
        "\n",
        "# Resolvendo o sistema 1\n",
        "x1 = np.linalg.solve(A1, b1)\n",
        "\n",
        "# Resolvendo o sistema 2\n",
        "x2 = np.linalg.solve(A2, b2)\n",
        "\n",
        "# Imprimindo resultados\n",
        "print(\"Sistema 1:\")\n",
        "print(\"Solução:\", x1)\n",
        "print(\"Trocas necessárias:\", trocas_necessarias1)\n",
        "\n",
        "print(\"\\nSistema 2:\")\n",
        "print(\"Solução:\", x2)\n",
        "print(\"Trocas necessárias:\", trocas_necessarias2)\n",
        "\n"
      ]
    },
    {
      "cell_type": "markdown",
      "id": "0213c008",
      "metadata": {
        "id": "0213c008"
      },
      "source": [
        "**2.** Use o algoritmo de eliminação de Gauss-Jordan obter a inversa da matriz dos coeficientes dos sistema lineares da questão 1. Então, obtenha a solução usando a matriz inversa."
      ]
    },
    {
      "cell_type": "code",
      "execution_count": 20,
      "id": "588db2cc",
      "metadata": {
        "colab": {
          "base_uri": "https://localhost:8080/"
        },
        "id": "588db2cc",
        "outputId": "7b14ab3a-bbfb-4bed-ba0b-da8ed26783a6"
      },
      "outputs": [
        {
          "output_type": "stream",
          "name": "stdout",
          "text": [
            "Inversa da matriz dos coeficientes:\n",
            "[[ 1.         -1.          2.         -2.        ]\n",
            " [ 1.         -0.66666667  2.33333333 -3.        ]\n",
            " [ 1.         -1.          1.         -1.        ]\n",
            " [-0.5         0.66666667 -1.33333333  1.5       ]]\n"
          ]
        }
      ],
      "source": [
        "import numpy as np\n",
        "\n",
        "# Definindo a matriz dos coeficientes\n",
        "A = np.array([[1, 1, 1, 4],\n",
        "              [2, 1, -1, 4],\n",
        "              [4, -1, -2, 2],\n",
        "              [3, -1, -1, 2]], dtype=float)\n",
        "\n",
        "# Matriz identidade\n",
        "I = np.eye(4)\n",
        "\n",
        "# Concatenando A e I\n",
        "A_extended = np.hstack((A, I))\n",
        "\n",
        "# Aplicando o algoritmo de eliminação de Gauss-Jordan\n",
        "n = len(A_extended)\n",
        "for i in range(n):\n",
        "    # Normalizando a linha i\n",
        "    A_extended[i] /= A_extended[i, i]\n",
        "    for j in range(n):\n",
        "        if i != j:\n",
        "            A_extended[j] -= A_extended[j, i] * A_extended[i]\n",
        "\n",
        "# Obtendo a inversa\n",
        "inverse_A = A_extended[:, n:]\n",
        "\n",
        "print(\"Inversa da matriz dos coeficientes:\")\n",
        "print(inverse_A)\n"
      ]
    },
    {
      "cell_type": "markdown",
      "id": "be332742",
      "metadata": {
        "id": "be332742"
      },
      "source": [
        "**3.** Dados os dois sistemas lineares $4 \\times 4$ tendo a mesma matriz de coeficientes:\n",
        "\n",
        "$$\n",
        "\\begin{aligned}\n",
        "x_1-x_2+2 x_3-x_4 & =6, \\\\\n",
        "x_1-x_3+x_4 & =4, \\\\\n",
        "2 x_1+x_2+3 x_3-4 x_4 & =-2, \\\\\n",
        "-x_2+x_3-x_4 & =5 ;\n",
        "\\end{aligned}\n",
        "\\quad \\quad \\quad \\quad\n",
        "\\begin{aligned}\n",
        "x_1-x_2+2 x_3-x_4 & =1 \\\\\n",
        "x_1-x_3+x_4 & =1 \\\\\n",
        "2 x_1+x_2+3 x_3-4 x_4 & =2 \\\\\n",
        "-x_2+x_3-x_4 & =-1 .\n",
        "\\end{aligned}\n",
        "$$\n",
        "\n",
        "Resolva os sistemas lineares aplicando eliminação de Gauss-Jordan à matriz aumentada\n",
        "\n",
        "$$\n",
        "\\left[\\begin{array}{rrrrlrr}\n",
        "1 & -1 & 2 & -1 & \\vdots & 6 & 1 \\\\\n",
        "1 & 0 & -1 & 1 & \\vdots & 4 & 1 \\\\\n",
        "2 & 1 & 3 & -4 & \\vdots & -2 & 2 \\\\\n",
        "0 & -1 & 1 & -1 & \\vdots & 5 & -1\n",
        "\\end{array}\\right]\n",
        "\\text{.}\n",
        "$$\n"
      ]
    },
    {
      "cell_type": "code",
      "execution_count": 21,
      "id": "b04b9ffe",
      "metadata": {
        "colab": {
          "base_uri": "https://localhost:8080/"
        },
        "id": "b04b9ffe",
        "outputId": "1f903f82-7ef2-4a7a-efc1-16238120082a"
      },
      "outputs": [
        {
          "output_type": "stream",
          "name": "stdout",
          "text": [
            "Solução do Sistema 1:\n",
            "[ 10.5 -10.5  -9.5  -4. ]\n",
            "\n",
            "Solução do Sistema 2:\n",
            "[-6.5  5.5  8.5  4. ]\n"
          ]
        }
      ],
      "source": [
        "import numpy as np\n",
        "\n",
        "# Definindo a matriz de coeficientes\n",
        "A = np.array([[1, -1, 2, -1],\n",
        "              [1, 0, -1, 4],\n",
        "              [2, 1, 3, -4],\n",
        "              [0, -1, 1, -1]], dtype=float)\n",
        "\n",
        "# Definindo os vetores de termos independentes para os dois sistemas\n",
        "b1 = np.array([6, 4, -2, 5], dtype=float)\n",
        "b2 = np.array([1, 1, 2, -1], dtype=float)\n",
        "\n",
        "# Função para a decomposição LU\n",
        "def lu_decomposition(A):\n",
        "    n = len(A)\n",
        "    L = np.eye(n)\n",
        "    U = A.copy()\n",
        "    for i in range(n-1):\n",
        "        for j in range(i+1, n):\n",
        "            factor = U[j, i] / U[i, i]\n",
        "            L[j, i] = factor\n",
        "            U[j, i:] -= factor * U[i, i:]\n",
        "    return L, U\n",
        "\n",
        "# Função para resolver um sistema linear com a decomposição LU\n",
        "def solve_lu(L, U, b):\n",
        "    n = len(b)\n",
        "    y = np.zeros(n)\n",
        "    x = np.zeros(n)\n",
        "\n",
        "    # Resolvendo Ly = b\n",
        "    for i in range(n):\n",
        "        y[i] = b[i] - np.dot(L[i, :i], y[:i])\n",
        "\n",
        "    # Resolvendo Ux = y\n",
        "    for i in range(n-1, -1, -1):\n",
        "        x[i] = (y[i] - np.dot(U[i, i+1:], x[i+1:])) / U[i, i]\n",
        "\n",
        "    return x\n",
        "\n",
        "# Calculando a decomposição LU\n",
        "L, U = lu_decomposition(A)\n",
        "\n",
        "# Resolvendo os sistemas lineares\n",
        "x1 = solve_lu(L, U, b1)\n",
        "x2 = solve_lu(L, U, b2)\n",
        "\n",
        "# Imprimindo as soluções\n",
        "print(\"Solução do Sistema 1:\")\n",
        "print(x1)\n",
        "print(\"\\nSolução do Sistema 2:\")\n",
        "print(x2)"
      ]
    },
    {
      "cell_type": "markdown",
      "id": "544025bc",
      "metadata": {
        "id": "544025bc"
      },
      "source": [
        "**4.** Resolva o sistema linear utilizando fatoração $LU$ (imprima as matrizes $L$ e $ U$). Faça trocas de linhas se necessário.\n",
        "\n",
        "$$\n",
        "\\begin{aligned}\n",
        "2 x_1+x_2 & =0, \\\\\n",
        "-x_1+3 x_2+3 x_3 & =5, \\\\\n",
        "2 x_1-2 x_2+x_3+4 x_4 & =-2, \\\\\n",
        "-2 x_1+2 x_2+2 x_3+5 x_4 & =6 .\n",
        "\\end{aligned}\n",
        "$$"
      ]
    },
    {
      "cell_type": "code",
      "execution_count": 22,
      "id": "119dcb56",
      "metadata": {
        "colab": {
          "base_uri": "https://localhost:8080/"
        },
        "id": "119dcb56",
        "outputId": "c3954745-443b-4646-9dae-ea54e24675a2"
      },
      "outputs": [
        {
          "output_type": "stream",
          "name": "stdout",
          "text": [
            "Matriz L:\n",
            "[[ 1.          0.          0.          0.        ]\n",
            " [-0.5         1.          0.          0.        ]\n",
            " [ 1.         -0.85714286  1.          0.        ]\n",
            " [-1.          0.85714286 -0.27586207  1.        ]]\n",
            "\n",
            "Matriz U:\n",
            "[[ 2.          1.         -1.          0.        ]\n",
            " [ 0.          3.5         2.5         0.        ]\n",
            " [ 0.          0.          4.14285714  4.        ]\n",
            " [ 0.          0.          0.          6.10344828]]\n",
            "\n",
            "Solução do sistema:\n",
            "[-0.55932203  1.29943503  0.18079096  0.38418079]\n"
          ]
        }
      ],
      "source": [
        "import numpy as np\n",
        "from scipy.linalg import lu\n",
        "\n",
        "# Definindo a matriz do sistema\n",
        "A = np.array([[2, 1, -1, 0],\n",
        "              [-1, 3, 3, 0],\n",
        "              [2, -2, 1, 4],\n",
        "              [-2, 2, 2, 5]], dtype=float)\n",
        "\n",
        "# Vetor dos termos independentes\n",
        "b = np.array([0, 5, -2, 6], dtype=float)\n",
        "\n",
        "# Calculando a fatoração LU\n",
        "P, L, U = lu(A)\n",
        "\n",
        "# Imprimindo as matrizes L e U\n",
        "print(\"Matriz L:\")\n",
        "print(L)\n",
        "print(\"\\nMatriz U:\")\n",
        "print(U)\n",
        "\n",
        "# Resolvendo Ly = Pb\n",
        "y = np.linalg.solve(L, np.dot(P, b))\n",
        "\n",
        "# Resolvendo Ux = y\n",
        "x = np.linalg.solve(U, y)\n",
        "\n",
        "print(\"\\nSolução do sistema:\")\n",
        "print(x)"
      ]
    },
    {
      "cell_type": "markdown",
      "id": "042a2fce",
      "metadata": {
        "id": "042a2fce"
      },
      "source": [
        "**5.** Faça trocas de linhas se necessário e use algum método iterativo para resolver o sistema linear\n",
        "$$\n",
        "\\begin{aligned}\n",
        "-x_1-x_2+5 x_3+x_4 & =0, \\\\\n",
        "x_1+4 x_2-x_3-x_4 & =-1, \\\\\n",
        "4 x_1+x_2-x_3+x_4 & =-2, \\\\\n",
        "x_1-x_2+x_3+3 x_4 & =1\n",
        "\\end{aligned}\n",
        "$$\n",
        "\n",
        "com tolerância $10^{-5}$ para alguma norma. Quantas iterações foram necessárias?"
      ]
    },
    {
      "cell_type": "code",
      "execution_count": 23,
      "id": "3758ba17",
      "metadata": {
        "colab": {
          "base_uri": "https://localhost:8080/"
        },
        "id": "3758ba17",
        "outputId": "0199b7ad-579e-4300-a84e-84cc2c7d9959"
      },
      "outputs": [
        {
          "output_type": "stream",
          "name": "stdout",
          "text": [
            "Solução encontrada:\n",
            "[-0.75342325  0.04109541 -0.28082125  0.69177997]\n",
            "\n",
            "Número de iterações: 12\n"
          ]
        }
      ],
      "source": [
        "import numpy as np\n",
        "\n",
        "# Definindo a matriz dos coeficientes\n",
        "A = np.array([[-1, -1, 5, 1],\n",
        "              [1, 4, -1, -1],\n",
        "              [4, 1, -1, 1],\n",
        "              [1, -1, 1, 3]], dtype=float)\n",
        "\n",
        "# Definindo o vetor dos termos independentes\n",
        "b = np.array([0, -1, -2, 1], dtype=float)\n",
        "\n",
        "# Tamanho do sistema\n",
        "n = len(b)\n",
        "\n",
        "# Função para fazer trocas de linhas se necessário\n",
        "def pivot(A, b, i):\n",
        "    max_index = i\n",
        "    max_value = abs(A[i, i])\n",
        "    for k in range(i + 1, n):\n",
        "        if abs(A[k, i]) > max_value:\n",
        "            max_index = k\n",
        "            max_value = abs(A[k, i])\n",
        "    if max_index != i:\n",
        "        # Trocando linhas\n",
        "        A[[i, max_index]] = A[[max_index, i]]\n",
        "        b[[i, max_index]] = b[[max_index, i]]\n",
        "\n",
        "# Realizando trocas de linhas\n",
        "for i in range(n):\n",
        "    pivot(A, b, i)\n",
        "\n",
        "# Chute inicial\n",
        "x = np.zeros(n)\n",
        "\n",
        "# Tolerância\n",
        "tolerance = 1e-5\n",
        "\n",
        "# Número máximo de iterações\n",
        "max_iterations = 1000\n",
        "\n",
        "# Implementação do método de Gauss-Seidel\n",
        "iterations = 0\n",
        "while iterations < max_iterations:\n",
        "    x_old = x.copy()\n",
        "    for i in range(n):\n",
        "        sigma = 0\n",
        "        for j in range(n):\n",
        "            if j != i:\n",
        "                sigma += A[i, j] * x[j]\n",
        "        x[i] = (b[i] - sigma) / A[i, i]\n",
        "    # Calculando o resíduo e verificando a convergência\n",
        "    residual = np.linalg.norm(np.dot(A, x) - b)\n",
        "    if residual < tolerance:\n",
        "        break\n",
        "    iterations += 1\n",
        "\n",
        "# Imprimindo a solução e o número de iterações\n",
        "print(\"Solução encontrada:\")\n",
        "print(x)\n",
        "print(\"\\nNúmero de iterações:\", iterations)"
      ]
    }
  ],
  "metadata": {
    "kernelspec": {
      "display_name": "Python 3 (ipykernel)",
      "language": "python",
      "name": "python3"
    },
    "language_info": {
      "codemirror_mode": {
        "name": "ipython",
        "version": 3
      },
      "file_extension": ".py",
      "mimetype": "text/x-python",
      "name": "python",
      "nbconvert_exporter": "python",
      "pygments_lexer": "ipython3",
      "version": "3.8.5"
    },
    "colab": {
      "provenance": []
    }
  },
  "nbformat": 4,
  "nbformat_minor": 5
}